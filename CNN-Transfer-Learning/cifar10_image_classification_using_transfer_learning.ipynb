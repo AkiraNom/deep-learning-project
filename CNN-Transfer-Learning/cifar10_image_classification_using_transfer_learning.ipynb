{
 "cells": [
  {
   "cell_type": "markdown",
   "metadata": {
    "id": "I8rBHcuXAIEt"
   },
   "source": [
    "# Image Classification Using Transfer Learning\n",
    "\n",
    "The VGG11+ batch normalization model with the pre-trained parameters in the torchvision is used for CIFAR10 image classification task.\n",
    "\n",
    "* Model architecture: VGG11 + batch normalization\n",
    "* Parameter initialization: pre-trained VGG11 parameters\n",
    "\n",
    "The following steps are added:\n",
    "* Data augmentation\n",
    "* Early stop + Save model"
   ]
  },
  {
   "cell_type": "code",
   "execution_count": 1,
   "metadata": {
    "executionInfo": {
     "elapsed": 6637,
     "status": "ok",
     "timestamp": 1734137680597,
     "user": {
      "displayName": "Akira Nomura",
      "userId": "10837205611086902571"
     },
     "user_tz": -540
    },
    "id": "2tj4KqQmW81O"
   },
   "outputs": [],
   "source": [
    "import torch\n",
    "from torch import nn, optim\n",
    "from torch.utils.data import DataLoader\n",
    "import torchvision\n",
    "from torchvision import transforms\n",
    "from torchvision.models import vgg11_bn\n",
    "from torchvision.models.vgg import VGG11_BN_Weights\n",
    "\n",
    "import matplotlib.pyplot as plt\n",
    "from tqdm import tqdm\n",
    "import time"
   ]
  },
  {
   "cell_type": "code",
   "execution_count": 2,
   "metadata": {
    "colab": {
     "base_uri": "https://localhost:8080/"
    },
    "executionInfo": {
     "elapsed": 4083,
     "status": "ok",
     "timestamp": 1734137684679,
     "user": {
      "displayName": "Akira Nomura",
      "userId": "10837205611086902571"
     },
     "user_tz": -540
    },
    "id": "UneipwBuZIeW",
    "outputId": "9ff60c2f-1044-4787-d1ce-e3eb75434302"
   },
   "outputs": [
    {
     "name": "stdout",
     "output_type": "stream",
     "text": [
      "Files already downloaded and verified\n",
      "Files already downloaded and verified\n"
     ]
    }
   ],
   "source": [
    "# data augmentation for train data\n",
    "train_transform = transforms.Compose([\n",
    "    transforms.RandomHorizontalFlip(),\n",
    "    transforms.RandomCrop(32, padding=4),\n",
    "    transforms.RandomRotation(15),\n",
    "    transforms.ToTensor(),\n",
    "    transforms.Normalize(mean=(0.49139968, 0.48215827, 0.44653124), std=(0.24703233, 0.24348505, 0.26158768))\n",
    "])\n",
    "val_transform = transforms.Compose([\n",
    "    transforms.ToTensor(),\n",
    "    transforms.Normalize(mean=(0.49139968, 0.48215827, 0.44653124), std=(0.24703233, 0.24348505, 0.26158768))\n",
    "])\n",
    "\n",
    "classes = ('plane', 'car', 'bird', 'cat',\n",
    "           'deer', 'dog', 'frog', 'horse', 'ship', 'truck')\n",
    "\n",
    "train_dataset = torchvision.datasets.CIFAR10('./data', train=True, download=True, transform=train_transform)\n",
    "train_loader = DataLoader(train_dataset, batch_size=128, shuffle=True, num_workers=2)\n",
    "val_dataset = torchvision.datasets.CIFAR10('./data', train=False, download=True, transform=val_transform)\n",
    "val_loader = DataLoader(val_dataset, batch_size=128, shuffle=False, num_workers=2)"
   ]
  },
  {
   "cell_type": "markdown",
   "metadata": {
    "id": "AltWYc4Ie9CJ"
   },
   "source": [
    "### Check data structure"
   ]
  },
  {
   "cell_type": "code",
   "execution_count": 3,
   "metadata": {
    "colab": {
     "base_uri": "https://localhost:8080/"
    },
    "executionInfo": {
     "elapsed": 1141,
     "status": "ok",
     "timestamp": 1734137685816,
     "user": {
      "displayName": "Akira Nomura",
      "userId": "10837205611086902571"
     },
     "user_tz": -540
    },
    "id": "QJzUuQsnAIEw",
    "outputId": "168439ed-6f56-4521-b531-a31d292a54f4"
   },
   "outputs": [
    {
     "name": "stdout",
     "output_type": "stream",
     "text": [
      "torch.Size([128, 3, 32, 32])\n"
     ]
    }
   ],
   "source": [
    "img, label = next(iter(train_loader))\n",
    "print(img.shape)"
   ]
  },
  {
   "cell_type": "markdown",
   "metadata": {
    "id": "wow5ritFAIEw"
   },
   "source": [
    "### Sample image"
   ]
  },
  {
   "cell_type": "code",
   "execution_count": 4,
   "metadata": {
    "colab": {
     "base_uri": "https://localhost:8080/",
     "height": 467
    },
    "executionInfo": {
     "elapsed": 21,
     "status": "ok",
     "timestamp": 1734137685817,
     "user": {
      "displayName": "Akira Nomura",
      "userId": "10837205611086902571"
     },
     "user_tz": -540
    },
    "id": "ZyQFVJP-b4CC",
    "outputId": "94bea954-5e79-412f-a2f9-37dc4da51dfc"
   },
   "outputs": [
    {
     "name": "stderr",
     "output_type": "stream",
     "text": [
      "WARNING:matplotlib.image:Clipping input data to the valid range for imshow with RGB data ([0..1] for floats or [0..255] for integers).\n"
     ]
    },
    {
     "data": {
      "text/plain": [
       "<matplotlib.image.AxesImage at 0x7f478d5f4310>"
      ]
     },
     "execution_count": 4,
     "metadata": {},
     "output_type": "execute_result"
    },
    {
     "data": {
      "image/png": "[encoded data removed]",
      "text/plain": [
       "<Figure size 640x480 with 1 Axes>"
      ]
     },
     "metadata": {},
     "output_type": "display_data"
    }
   ],
   "source": [
    "img = img/2 +0.5\n",
    "plt.imshow(img[0].permute(1,2,0))"
   ]
  },
  {
   "cell_type": "markdown",
   "metadata": {
    "id": "ZCEo6S4AfGPZ"
   },
   "source": [
    "#### Model (VGG11 with batch normalization)"
   ]
  },
  {
   "cell_type": "code",
   "execution_count": 5,
   "metadata": {
    "executionInfo": {
     "elapsed": 1446,
     "status": "ok",
     "timestamp": 1734137687247,
     "user": {
      "displayName": "Akira Nomura",
      "userId": "10837205611086902571"
     },
     "user_tz": -540
    },
    "id": "_HeVHCQCdT94"
   },
   "outputs": [],
   "source": [
    "# VGG11 + batch normalization\n",
    "model = vgg11_bn(weights=VGG11_BN_Weights.IMAGENET1K_V1)"
   ]
  },
  {
   "cell_type": "code",
   "execution_count": 6,
   "metadata": {
    "executionInfo": {
     "elapsed": 10,
     "status": "ok",
     "timestamp": 1734137687248,
     "user": {
      "displayName": "Akira Nomura",
      "userId": "10837205611086902571"
     },
     "user_tz": -540
    },
    "id": "mi6oJwVXoRHq"
   },
   "outputs": [],
   "source": [
    "# change 1000 classes classifier to 10 classes classifier\n",
    "model.classifier[-1] = nn.Linear(in_features=4096, out_features=10, bias=True)"
   ]
  },
  {
   "cell_type": "code",
   "execution_count": 7,
   "metadata": {
    "colab": {
     "base_uri": "https://localhost:8080/"
    },
    "executionInfo": {
     "elapsed": 10,
     "status": "ok",
     "timestamp": 1734137687248,
     "user": {
      "displayName": "Akira Nomura",
      "userId": "10837205611086902571"
     },
     "user_tz": -540
    },
    "id": "vx-V6XNTdWk2",
    "outputId": "04aeecf0-82df-4886-e9c2-86cd276093f0"
   },
   "outputs": [
    {
     "name": "stdout",
     "output_type": "stream",
     "text": [
      "features Sequential(\n",
      "  (0): Conv2d(3, 64, kernel_size=(3, 3), stride=(1, 1), padding=(1, 1))\n",
      "  (1): BatchNorm2d(64, eps=1e-05, momentum=0.1, affine=True, track_running_stats=True)\n",
      "  (2): ReLU(inplace=True)\n",
      "  (3): MaxPool2d(kernel_size=2, stride=2, padding=0, dilation=1, ceil_mode=False)\n",
      "  (4): Conv2d(64, 128, kernel_size=(3, 3), stride=(1, 1), padding=(1, 1))\n",
      "  (5): BatchNorm2d(128, eps=1e-05, momentum=0.1, affine=True, track_running_stats=True)\n",
      "  (6): ReLU(inplace=True)\n",
      "  (7): MaxPool2d(kernel_size=2, stride=2, padding=0, dilation=1, ceil_mode=False)\n",
      "  (8): Conv2d(128, 256, kernel_size=(3, 3), stride=(1, 1), padding=(1, 1))\n",
      "  (9): BatchNorm2d(256, eps=1e-05, momentum=0.1, affine=True, track_running_stats=True)\n",
      "  (10): ReLU(inplace=True)\n",
      "  (11): Conv2d(256, 256, kernel_size=(3, 3), stride=(1, 1), padding=(1, 1))\n",
      "  (12): BatchNorm2d(256, eps=1e-05, momentum=0.1, affine=True, track_running_stats=True)\n",
      "  (13): ReLU(inplace=True)\n",
      "  (14): MaxPool2d(kernel_size=2, stride=2, padding=0, dilation=1, ceil_mode=False)\n",
      "  (15): Conv2d(256, 512, kernel_size=(3, 3), stride=(1, 1), padding=(1, 1))\n",
      "  (16): BatchNorm2d(512, eps=1e-05, momentum=0.1, affine=True, track_running_stats=True)\n",
      "  (17): ReLU(inplace=True)\n",
      "  (18): Conv2d(512, 512, kernel_size=(3, 3), stride=(1, 1), padding=(1, 1))\n",
      "  (19): BatchNorm2d(512, eps=1e-05, momentum=0.1, affine=True, track_running_stats=True)\n",
      "  (20): ReLU(inplace=True)\n",
      "  (21): MaxPool2d(kernel_size=2, stride=2, padding=0, dilation=1, ceil_mode=False)\n",
      "  (22): Conv2d(512, 512, kernel_size=(3, 3), stride=(1, 1), padding=(1, 1))\n",
      "  (23): BatchNorm2d(512, eps=1e-05, momentum=0.1, affine=True, track_running_stats=True)\n",
      "  (24): ReLU(inplace=True)\n",
      "  (25): Conv2d(512, 512, kernel_size=(3, 3), stride=(1, 1), padding=(1, 1))\n",
      "  (26): BatchNorm2d(512, eps=1e-05, momentum=0.1, affine=True, track_running_stats=True)\n",
      "  (27): ReLU(inplace=True)\n",
      "  (28): MaxPool2d(kernel_size=2, stride=2, padding=0, dilation=1, ceil_mode=False)\n",
      ")\n",
      "features.0 Conv2d(3, 64, kernel_size=(3, 3), stride=(1, 1), padding=(1, 1))\n",
      "features.1 BatchNorm2d(64, eps=1e-05, momentum=0.1, affine=True, track_running_stats=True)\n",
      "features.2 ReLU(inplace=True)\n",
      "features.3 MaxPool2d(kernel_size=2, stride=2, padding=0, dilation=1, ceil_mode=False)\n",
      "features.4 Conv2d(64, 128, kernel_size=(3, 3), stride=(1, 1), padding=(1, 1))\n",
      "features.5 BatchNorm2d(128, eps=1e-05, momentum=0.1, affine=True, track_running_stats=True)\n",
      "features.6 ReLU(inplace=True)\n",
      "features.7 MaxPool2d(kernel_size=2, stride=2, padding=0, dilation=1, ceil_mode=False)\n",
      "features.8 Conv2d(128, 256, kernel_size=(3, 3), stride=(1, 1), padding=(1, 1))\n",
      "features.9 BatchNorm2d(256, eps=1e-05, momentum=0.1, affine=True, track_running_stats=True)\n",
      "features.10 ReLU(inplace=True)\n",
      "features.11 Conv2d(256, 256, kernel_size=(3, 3), stride=(1, 1), padding=(1, 1))\n",
      "features.12 BatchNorm2d(256, eps=1e-05, momentum=0.1, affine=True, track_running_stats=True)\n",
      "features.13 ReLU(inplace=True)\n",
      "features.14 MaxPool2d(kernel_size=2, stride=2, padding=0, dilation=1, ceil_mode=False)\n",
      "features.15 Conv2d(256, 512, kernel_size=(3, 3), stride=(1, 1), padding=(1, 1))\n",
      "features.16 BatchNorm2d(512, eps=1e-05, momentum=0.1, affine=True, track_running_stats=True)\n",
      "features.17 ReLU(inplace=True)\n",
      "features.18 Conv2d(512, 512, kernel_size=(3, 3), stride=(1, 1), padding=(1, 1))\n",
      "features.19 BatchNorm2d(512, eps=1e-05, momentum=0.1, affine=True, track_running_stats=True)\n",
      "features.20 ReLU(inplace=True)\n",
      "features.21 MaxPool2d(kernel_size=2, stride=2, padding=0, dilation=1, ceil_mode=False)\n",
      "features.22 Conv2d(512, 512, kernel_size=(3, 3), stride=(1, 1), padding=(1, 1))\n",
      "features.23 BatchNorm2d(512, eps=1e-05, momentum=0.1, affine=True, track_running_stats=True)\n",
      "features.24 ReLU(inplace=True)\n",
      "features.25 Conv2d(512, 512, kernel_size=(3, 3), stride=(1, 1), padding=(1, 1))\n",
      "features.26 BatchNorm2d(512, eps=1e-05, momentum=0.1, affine=True, track_running_stats=True)\n",
      "features.27 ReLU(inplace=True)\n",
      "features.28 MaxPool2d(kernel_size=2, stride=2, padding=0, dilation=1, ceil_mode=False)\n",
      "avgpool AdaptiveAvgPool2d(output_size=(7, 7))\n",
      "classifier Sequential(\n",
      "  (0): Linear(in_features=25088, out_features=4096, bias=True)\n",
      "  (1): ReLU(inplace=True)\n",
      "  (2): Dropout(p=0.5, inplace=False)\n",
      "  (3): Linear(in_features=4096, out_features=4096, bias=True)\n",
      "  (4): ReLU(inplace=True)\n",
      "  (5): Dropout(p=0.5, inplace=False)\n",
      "  (6): Linear(in_features=4096, out_features=10, bias=True)\n",
      ")\n",
      "classifier.0 Linear(in_features=25088, out_features=4096, bias=True)\n",
      "classifier.1 ReLU(inplace=True)\n",
      "classifier.2 Dropout(p=0.5, inplace=False)\n",
      "classifier.3 Linear(in_features=4096, out_features=4096, bias=True)\n",
      "classifier.4 ReLU(inplace=True)\n",
      "classifier.5 Dropout(p=0.5, inplace=False)\n",
      "classifier.6 Linear(in_features=4096, out_features=10, bias=True)\n"
     ]
    }
   ],
   "source": [
    "# model inspection\n",
    "for name, module in model.named_modules():\n",
    "  if name:\n",
    "    print(name, module)"
   ]
  },
  {
   "cell_type": "code",
   "execution_count": 8,
   "metadata": {
    "colab": {
     "base_uri": "https://localhost:8080/"
    },
    "executionInfo": {
     "elapsed": 8,
     "status": "ok",
     "timestamp": 1734137687248,
     "user": {
      "displayName": "Akira Nomura",
      "userId": "10837205611086902571"
     },
     "user_tz": -540
    },
    "id": "qorlrpV9f-Sb",
    "outputId": "c0be5963-9c5e-4aee-dad8-fee90e7da736"
   },
   "outputs": [
    {
     "data": {
      "text/plain": [
       "VGG(\n",
       "  (features): Sequential(\n",
       "    (0): Conv2d(3, 64, kernel_size=(3, 3), stride=(1, 1), padding=(1, 1))\n",
       "    (1): BatchNorm2d(64, eps=1e-05, momentum=0.1, affine=True, track_running_stats=True)\n",
       "    (2): ReLU(inplace=True)\n",
       "    (3): MaxPool2d(kernel_size=2, stride=2, padding=0, dilation=1, ceil_mode=False)\n",
       "    (4): Conv2d(64, 128, kernel_size=(3, 3), stride=(1, 1), padding=(1, 1))\n",
       "    (5): BatchNorm2d(128, eps=1e-05, momentum=0.1, affine=True, track_running_stats=True)\n",
       "    (6): ReLU(inplace=True)\n",
       "    (7): MaxPool2d(kernel_size=2, stride=2, padding=0, dilation=1, ceil_mode=False)\n",
       "    (8): Conv2d(128, 256, kernel_size=(3, 3), stride=(1, 1), padding=(1, 1))\n",
       "    (9): BatchNorm2d(256, eps=1e-05, momentum=0.1, affine=True, track_running_stats=True)\n",
       "    (10): ReLU(inplace=True)\n",
       "    (11): Conv2d(256, 256, kernel_size=(3, 3), stride=(1, 1), padding=(1, 1))\n",
       "    (12): BatchNorm2d(256, eps=1e-05, momentum=0.1, affine=True, track_running_stats=True)\n",
       "    (13): ReLU(inplace=True)\n",
       "    (14): MaxPool2d(kernel_size=2, stride=2, padding=0, dilation=1, ceil_mode=False)\n",
       "    (15): Conv2d(256, 512, kernel_size=(3, 3), stride=(1, 1), padding=(1, 1))\n",
       "    (16): BatchNorm2d(512, eps=1e-05, momentum=0.1, affine=True, track_running_stats=True)\n",
       "    (17): ReLU(inplace=True)\n",
       "    (18): Conv2d(512, 512, kernel_size=(3, 3), stride=(1, 1), padding=(1, 1))\n",
       "    (19): BatchNorm2d(512, eps=1e-05, momentum=0.1, affine=True, track_running_stats=True)\n",
       "    (20): ReLU(inplace=True)\n",
       "    (21): MaxPool2d(kernel_size=2, stride=2, padding=0, dilation=1, ceil_mode=False)\n",
       "    (22): Conv2d(512, 512, kernel_size=(3, 3), stride=(1, 1), padding=(1, 1))\n",
       "    (23): BatchNorm2d(512, eps=1e-05, momentum=0.1, affine=True, track_running_stats=True)\n",
       "    (24): ReLU(inplace=True)\n",
       "    (25): Conv2d(512, 512, kernel_size=(3, 3), stride=(1, 1), padding=(1, 1))\n",
       "    (26): BatchNorm2d(512, eps=1e-05, momentum=0.1, affine=True, track_running_stats=True)\n",
       "    (27): ReLU(inplace=True)\n",
       "    (28): MaxPool2d(kernel_size=2, stride=2, padding=0, dilation=1, ceil_mode=False)\n",
       "  )\n",
       "  (avgpool): AdaptiveAvgPool2d(output_size=(7, 7))\n",
       "  (classifier): Sequential(\n",
       "    (0): Linear(in_features=25088, out_features=4096, bias=True)\n",
       "    (1): ReLU(inplace=True)\n",
       "    (2): Dropout(p=0.5, inplace=False)\n",
       "    (3): Linear(in_features=4096, out_features=4096, bias=True)\n",
       "    (4): ReLU(inplace=True)\n",
       "    (5): Dropout(p=0.5, inplace=False)\n",
       "    (6): Linear(in_features=4096, out_features=10, bias=True)\n",
       "  )\n",
       ")"
      ]
     },
     "execution_count": 8,
     "metadata": {},
     "output_type": "execute_result"
    }
   ],
   "source": [
    "# adam optimizer\n",
    "opt = optim.Adam(model.parameters(),lr =0.001)\n",
    "\n",
    "# use gpu if available\n",
    "device = torch.device('cuda' if torch.cuda.is_available() else 'cpu')\n",
    "model.to(device)"
   ]
  },
  {
   "cell_type": "markdown",
   "metadata": {
    "id": "UqlpA96sg3rZ"
   },
   "source": [
    "### Learning"
   ]
  },
  {
   "cell_type": "code",
   "execution_count": 9,
   "metadata": {
    "colab": {
     "base_uri": "https://localhost:8080/"
    },
    "executionInfo": {
     "elapsed": 1436163,
     "status": "ok",
     "timestamp": 1734139123407,
     "user": {
      "displayName": "Akira Nomura",
      "userId": "10837205611086902571"
     },
     "user_tz": -540
    },
    "id": "AMF5_xAGg4xL",
    "outputId": "46e77071-69ae-4552-ca48-c5416ecbd032"
   },
   "outputs": [
    {
     "name": "stderr",
     "output_type": "stream",
     "text": [
      "                                                           "
     ]
    },
    {
     "name": "stdout",
     "output_type": "stream",
     "text": [
      "Epoch : 1, train losses  1.07620, val losses  0.81564, val accuracies  0.74792\n"
     ]
    },
    {
     "name": "stderr",
     "output_type": "stream",
     "text": [
      "                                                           "
     ]
    },
    {
     "name": "stdout",
     "output_type": "stream",
     "text": [
      "Epoch : 2, train losses  0.76104, val losses  0.61286, val accuracies  0.79757\n"
     ]
    },
    {
     "name": "stderr",
     "output_type": "stream",
     "text": [
      "                                                           "
     ]
    },
    {
     "name": "stdout",
     "output_type": "stream",
     "text": [
      "Epoch : 3, train losses  0.64922, val losses  0.54518, val accuracies  0.81379\n"
     ]
    },
    {
     "name": "stderr",
     "output_type": "stream",
     "text": [
      "                                                           "
     ]
    },
    {
     "name": "stdout",
     "output_type": "stream",
     "text": [
      "Epoch : 4, train losses  0.58826, val losses  0.50731, val accuracies  0.83653\n"
     ]
    },
    {
     "name": "stderr",
     "output_type": "stream",
     "text": [
      "                                                           "
     ]
    },
    {
     "name": "stdout",
     "output_type": "stream",
     "text": [
      "Epoch : 5, train losses  0.54399, val losses  0.48020, val accuracies  0.84256\n"
     ]
    },
    {
     "name": "stderr",
     "output_type": "stream",
     "text": [
      "                                                           "
     ]
    },
    {
     "name": "stdout",
     "output_type": "stream",
     "text": [
      "Epoch : 6, train losses  0.50493, val losses  0.45143, val accuracies  0.84840\n"
     ]
    },
    {
     "name": "stderr",
     "output_type": "stream",
     "text": []
    },
    {
     "name": "stdout",
     "output_type": "stream",
     "text": [
      "Epoch : 7, train losses  0.48402, val losses  0.45002, val accuracies  0.85275\n"
     ]
    },
    {
     "name": "stderr",
     "output_type": "stream",
     "text": []
    },
    {
     "name": "stdout",
     "output_type": "stream",
     "text": [
      "Epoch : 8, train losses  0.45625, val losses  0.42515, val accuracies  0.85839\n"
     ]
    },
    {
     "name": "stderr",
     "output_type": "stream",
     "text": [
      "                                                           "
     ]
    },
    {
     "name": "stdout",
     "output_type": "stream",
     "text": [
      "Epoch : 9, train losses  0.43300, val losses  0.45446, val accuracies  0.86165\n"
     ]
    },
    {
     "name": "stderr",
     "output_type": "stream",
     "text": []
    },
    {
     "name": "stdout",
     "output_type": "stream",
     "text": [
      "Epoch : 10, train losses  0.41702, val losses  0.40010, val accuracies  0.87035\n"
     ]
    },
    {
     "name": "stderr",
     "output_type": "stream",
     "text": [
      "                                                           "
     ]
    },
    {
     "name": "stdout",
     "output_type": "stream",
     "text": [
      "Epoch : 11, train losses  0.39243, val losses  0.43671, val accuracies  0.85977\n"
     ]
    },
    {
     "name": "stderr",
     "output_type": "stream",
     "text": [
      "                                                           "
     ]
    },
    {
     "name": "stdout",
     "output_type": "stream",
     "text": [
      "Epoch : 12, train losses  0.38243, val losses  0.41780, val accuracies  0.86294\n"
     ]
    },
    {
     "name": "stderr",
     "output_type": "stream",
     "text": []
    },
    {
     "name": "stdout",
     "output_type": "stream",
     "text": [
      "Epoch : 13, train losses  0.36741, val losses  0.38623, val accuracies  0.87401\n"
     ]
    },
    {
     "name": "stderr",
     "output_type": "stream",
     "text": [
      "                                                           "
     ]
    },
    {
     "name": "stdout",
     "output_type": "stream",
     "text": [
      "Epoch : 14, train losses  0.35652, val losses  0.39906, val accuracies  0.87401\n"
     ]
    },
    {
     "name": "stderr",
     "output_type": "stream",
     "text": [
      "                                                           "
     ]
    },
    {
     "name": "stdout",
     "output_type": "stream",
     "text": [
      "Epoch : 15, train losses  0.35012, val losses  0.42129, val accuracies  0.87451\n"
     ]
    },
    {
     "name": "stderr",
     "output_type": "stream",
     "text": []
    },
    {
     "name": "stdout",
     "output_type": "stream",
     "text": [
      "Epoch : 16, train losses  0.33754, val losses  0.36622, val accuracies  0.88538\n"
     ]
    },
    {
     "name": "stderr",
     "output_type": "stream",
     "text": [
      "                                                           "
     ]
    },
    {
     "name": "stdout",
     "output_type": "stream",
     "text": [
      "Epoch : 17, train losses  0.31713, val losses  0.40515, val accuracies  0.87787\n"
     ]
    },
    {
     "name": "stderr",
     "output_type": "stream",
     "text": [
      "                                                           "
     ]
    },
    {
     "name": "stdout",
     "output_type": "stream",
     "text": [
      "Epoch : 18, train losses  0.30020, val losses  0.37734, val accuracies  0.88113\n"
     ]
    },
    {
     "name": "stderr",
     "output_type": "stream",
     "text": [
      "                                                           "
     ]
    },
    {
     "name": "stdout",
     "output_type": "stream",
     "text": [
      "Epoch : 19, train losses  0.29947, val losses  0.39582, val accuracies  0.88222\n"
     ]
    },
    {
     "name": "stderr",
     "output_type": "stream",
     "text": [
      "                                                           "
     ]
    },
    {
     "name": "stdout",
     "output_type": "stream",
     "text": [
      "Epoch : 20, train losses  0.29802, val losses  0.39384, val accuracies  0.88024\n"
     ]
    },
    {
     "name": "stderr",
     "output_type": "stream",
     "text": [
      "                                                           "
     ]
    },
    {
     "name": "stdout",
     "output_type": "stream",
     "text": [
      "Epoch : 21, train losses  0.28206, val losses  0.37119, val accuracies  0.88647\n"
     ]
    },
    {
     "name": "stderr",
     "output_type": "stream",
     "text": [
      "                                                           "
     ]
    },
    {
     "name": "stdout",
     "output_type": "stream",
     "text": [
      "Epoch : 22, train losses  0.27143, val losses  0.46448, val accuracies  0.87846\n"
     ]
    },
    {
     "name": "stderr",
     "output_type": "stream",
     "text": [
      "                                                           "
     ]
    },
    {
     "name": "stdout",
     "output_type": "stream",
     "text": [
      "Epoch : 23, train losses  0.26931, val losses  0.38540, val accuracies  0.88519\n"
     ]
    },
    {
     "name": "stderr",
     "output_type": "stream",
     "text": [
      "                                                           "
     ]
    },
    {
     "name": "stdout",
     "output_type": "stream",
     "text": [
      "Epoch : 24, train losses  0.25883, val losses  0.38736, val accuracies  0.88786\n"
     ]
    },
    {
     "name": "stderr",
     "output_type": "stream",
     "text": []
    },
    {
     "name": "stdout",
     "output_type": "stream",
     "text": [
      "Epoch : 25, train losses  0.25102, val losses  0.35754, val accuracies  0.89419\n"
     ]
    },
    {
     "name": "stderr",
     "output_type": "stream",
     "text": [
      "                                                           "
     ]
    },
    {
     "name": "stdout",
     "output_type": "stream",
     "text": [
      "Epoch : 26, train losses  0.24718, val losses  0.38550, val accuracies  0.88845\n"
     ]
    },
    {
     "name": "stderr",
     "output_type": "stream",
     "text": [
      "                                                           "
     ]
    },
    {
     "name": "stdout",
     "output_type": "stream",
     "text": [
      "Epoch : 27, train losses  0.22917, val losses  0.39976, val accuracies  0.88598\n"
     ]
    },
    {
     "name": "stderr",
     "output_type": "stream",
     "text": [
      "                                                           "
     ]
    },
    {
     "name": "stdout",
     "output_type": "stream",
     "text": [
      "Epoch : 28, train losses  0.22455, val losses  0.38487, val accuracies  0.88855\n"
     ]
    },
    {
     "name": "stderr",
     "output_type": "stream",
     "text": [
      "                                                           "
     ]
    },
    {
     "name": "stdout",
     "output_type": "stream",
     "text": [
      "Epoch : 29, train losses  0.22343, val losses  0.37784, val accuracies  0.88667\n"
     ]
    },
    {
     "name": "stderr",
     "output_type": "stream",
     "text": [
      "                                                           "
     ]
    },
    {
     "name": "stdout",
     "output_type": "stream",
     "text": [
      "Epoch : 30, train losses  0.21613, val losses  0.45160, val accuracies  0.88123\n"
     ]
    },
    {
     "name": "stderr",
     "output_type": "stream",
     "text": [
      "                                                           "
     ]
    },
    {
     "name": "stdout",
     "output_type": "stream",
     "text": [
      "Epoch : 31, train losses  0.21765, val losses  0.38218, val accuracies  0.88439\n"
     ]
    },
    {
     "name": "stderr",
     "output_type": "stream",
     "text": [
      "                                                           "
     ]
    },
    {
     "name": "stdout",
     "output_type": "stream",
     "text": [
      "Epoch : 32, train losses  0.21513, val losses  0.38978, val accuracies  0.88766\n"
     ]
    },
    {
     "name": "stderr",
     "output_type": "stream",
     "text": [
      "                                                           "
     ]
    },
    {
     "name": "stdout",
     "output_type": "stream",
     "text": [
      "Epoch : 33, train losses  0.21058, val losses  0.39110, val accuracies  0.88489\n"
     ]
    },
    {
     "name": "stderr",
     "output_type": "stream",
     "text": [
      "                                                           "
     ]
    },
    {
     "name": "stdout",
     "output_type": "stream",
     "text": [
      "Epoch : 34, train losses  0.20746, val losses  0.42386, val accuracies  0.88608\n"
     ]
    },
    {
     "name": "stderr",
     "output_type": "stream",
     "text": [
      "                                                           "
     ]
    },
    {
     "name": "stdout",
     "output_type": "stream",
     "text": [
      "Epoch : 35, train losses  0.19597, val losses  0.43686, val accuracies  0.88439\n",
      "Early stopping\n",
      "Model performance does not improve 10 consecutive epochs\n",
      "Best val loss:  0.35754 at epoch 24\n",
      "Time to complete 1436.19 sec\n"
     ]
    },
    {
     "name": "stderr",
     "output_type": "stream",
     "text": [
      "\r"
     ]
    }
   ],
   "source": [
    "num_epochs = 200\n",
    "train_losses = []\n",
    "val_losses = []\n",
    "val_accuracies = []\n",
    "\n",
    "best_val_loss = float('inf')\n",
    "# counter for num. of no improvement\n",
    "num_improv = 0\n",
    "early_stop = 10\n",
    "\n",
    "start_time = time.time()\n",
    "\n",
    "for epoch in range(num_epochs):\n",
    "  model.train()\n",
    "\n",
    "  running_train_loss = 0.0\n",
    "  running_val_loss = 0.0\n",
    "  running_val_acc = 0.0\n",
    "\n",
    "  for train_batch, data in tqdm(enumerate(train_loader), total=len(train_loader), desc=\"Training\", leave=False):\n",
    "    X, y = data\n",
    "    X, y = X.to(device), y.to(device)\n",
    "\n",
    "    opt.zero_grad()\n",
    "    y_pred = model(X)\n",
    "    loss = nn.CrossEntropyLoss()(y_pred, y)\n",
    "    loss.backward()\n",
    "    opt.step()\n",
    "\n",
    "    running_train_loss += loss.item()\n",
    "\n",
    "  with torch.no_grad():\n",
    "    model.eval()\n",
    "\n",
    "    for val_batch, val_data in tqdm(enumerate(val_loader), total=len(val_loader), desc=\"Validation\", leave=False):\n",
    "      X_val, y_val = val_data\n",
    "      X_val, y_val = X_val.to(device), y_val.to(device)\n",
    "\n",
    "      y_val_pred = model(X_val)\n",
    "      running_val_loss += nn.CrossEntropyLoss()(y_val_pred, y_val).item()\n",
    "\n",
    "      running_val_acc += torch.sum(torch.argmax(y_val_pred, dim=1) == y_val).item()/ y_val.shape[0]\n",
    "\n",
    "    train_losses.append(running_train_loss/len(train_loader))\n",
    "    val_losses.append(running_val_loss/len(val_loader))\n",
    "    val_accuracies.append(running_val_acc/len(val_loader))\n",
    "\n",
    "    print(f'Epoch : {epoch+1}, train losses {train_losses[-1]: .5f}, val losses {val_losses[-1]: .5f}, val accuracies {val_accuracies[-1]: .5f}')\n",
    "\n",
    "  # save model and update num. improvement counts\n",
    "  if val_losses[-1] < best_val_loss:\n",
    "    best_val_loss = val_losses[-1]\n",
    "    num_improv =0\n",
    "    if val_accuracies[-1] > 0.85:\n",
    "      torch.save(model.state_dict(), f'./model/torch_model_state_dict_checkpoint_epoch{epoch}.pth')\n",
    "\n",
    "  else:\n",
    "    num_improv += 1\n",
    "\n",
    "  # early stop\n",
    "  if early_stop and num_improv >= early_stop:\n",
    "    print('Early stopping')\n",
    "    print(f'Model performance does not improve {early_stop} consecutive epochs')\n",
    "    idx = val_losses.index(best_val_loss)\n",
    "    print(f'Best val loss: {best_val_loss: .5f} at epoch {idx}')\n",
    "\n",
    "    break\n",
    "\n",
    "end_time = time.time()\n",
    "print(f'Time to complete {end_time-start_time:.2f} sec')"
   ]
  },
  {
   "cell_type": "markdown",
   "metadata": {
    "id": "-BfJQz6zKyBG"
   },
   "source": [
    "### Load the best model"
   ]
  },
  {
   "cell_type": "code",
   "execution_count": 10,
   "metadata": {
    "colab": {
     "base_uri": "https://localhost:8080/"
    },
    "executionInfo": {
     "elapsed": 614,
     "status": "ok",
     "timestamp": 1734139124014,
     "user": {
      "displayName": "Akira Nomura",
      "userId": "10837205611086902571"
     },
     "user_tz": -540
    },
    "id": "ZMi_3ydsK0oW",
    "outputId": "f65f82e8-b6cd-4bdc-a24a-515c624da80e"
   },
   "outputs": [
    {
     "name": "stderr",
     "output_type": "stream",
     "text": [
      "<ipython-input-10-cfbcc9afc087>:3: FutureWarning: You are using `torch.load` with `weights_only=False` (the current default value), which uses the default pickle module implicitly. It is possible to construct malicious pickle data which will execute arbitrary code during unpickling (See https://github.com/pytorch/pytorch/blob/main/SECURITY.md#untrusted-models for more details). In a future release, the default value for `weights_only` will be flipped to `True`. This limits the functions that could be executed during unpickling. Arbitrary objects will no longer be allowed to be loaded via this mode unless they are explicitly allowlisted by the user via `torch.serialization.add_safe_globals`. We recommend you start setting `weights_only=True` for any use case where you don't have full control of the loaded file. Please open an issue on GitHub for any issues related to this experimental feature.\n",
      "  model.load_state_dict(torch.load(f'./model/torch_model_state_dict_checkpoint_epoch{idx}.pth', map_location=torch.device('cpu')))\n"
     ]
    },
    {
     "name": "stdout",
     "output_type": "stream",
     "text": [
      "Model is loaded\n"
     ]
    }
   ],
   "source": [
    "# load the best model parameters\n",
    "idx = val_losses.index(best_val_loss)\n",
    "model.load_state_dict(torch.load(f'./model/torch_model_state_dict_checkpoint_epoch{idx}.pth', map_location=torch.device('cpu')))\n",
    "# model.load_state_dict(torch.load(f'torch_model_state_dict_checkpoint_epoch{idx}.pth', map_location=torch.device('cpu')))\n",
    "print('Model is loaded')"
   ]
  },
  {
   "cell_type": "markdown",
   "metadata": {
    "id": "8GtgXx__KKVq"
   },
   "source": [
    "### Model Performance"
   ]
  },
  {
   "cell_type": "code",
   "execution_count": 22,
   "metadata": {
    "colab": {
     "base_uri": "https://localhost:8080/",
     "height": 497
    },
    "executionInfo": {
     "elapsed": 686,
     "status": "ok",
     "timestamp": 1734139453573,
     "user": {
      "displayName": "Akira Nomura",
      "userId": "10837205611086902571"
     },
     "user_tz": -540
    },
    "id": "gyq5rn7Q9D91",
    "outputId": "16e851a5-2604-40a7-d931-51c98dd25d82"
   },
   "outputs": [
    {
     "data": {
      "image/png": "[encoded data removed]",
      "text/plain": [
       "<Figure size 640x480 with 2 Axes>"
      ]
     },
     "metadata": {},
     "output_type": "display_data"
    }
   ],
   "source": [
    "fig, ax = plt.subplots(1,2)\n",
    "ax[0].plot(train_losses, label = 'train losses')\n",
    "ax[0].plot(val_losses, label='val losses')\n",
    "ax[0].set_xlabel('Epoch')\n",
    "ax[0].set_ylabel('Loss')\n",
    "ax[0].set_title('Loss')\n",
    "ax[0].legend()\n",
    "ax[1].plot(val_accuracies, label='val accuracies')\n",
    "ax[1].set_xlabel('Epoch')\n",
    "ax[1].set_ylabel('Accuracy')\n",
    "ax[1].set_title('Accuracy')\n",
    "ax[1].legend()\n",
    "fig.suptitle('Model Performance')\n",
    "fig.show()"
   ]
  },
  {
   "cell_type": "markdown",
   "metadata": {
    "id": "Qk-qE3Rd5hHV"
   },
   "source": [
    "### Model Prediction"
   ]
  },
  {
   "cell_type": "code",
   "execution_count": 23,
   "metadata": {
    "executionInfo": {
     "elapsed": 482,
     "status": "ok",
     "timestamp": 1734139464363,
     "user": {
      "displayName": "Akira Nomura",
      "userId": "10837205611086902571"
     },
     "user_tz": -540
    },
    "id": "G2xZNyzIuuSC"
   },
   "outputs": [],
   "source": [
    "from torch.utils.data import Subset\n",
    "import random"
   ]
  },
  {
   "cell_type": "code",
   "execution_count": 24,
   "metadata": {
    "executionInfo": {
     "elapsed": 3,
     "status": "ok",
     "timestamp": 1734139465979,
     "user": {
      "displayName": "Akira Nomura",
      "userId": "10837205611086902571"
     },
     "user_tz": -540
    },
    "id": "SAhGKiHPu7Rq"
   },
   "outputs": [],
   "source": [
    "# select random sample from validation dataset\n",
    "sample_size = 3\n",
    "choices = random.sample(range(len(val_dataset)), sample_size)\n",
    "subset = Subset(val_dataset, choices)\n",
    "subset_loader = DataLoader(subset, batch_size=sample_size, shuffle=False, num_workers=2)"
   ]
  },
  {
   "cell_type": "code",
   "execution_count": 28,
   "metadata": {
    "colab": {
     "base_uri": "https://localhost:8080/",
     "height": 1000
    },
    "executionInfo": {
     "elapsed": 1942,
     "status": "ok",
     "timestamp": 1734139572546,
     "user": {
      "displayName": "Akira Nomura",
      "userId": "10837205611086902571"
     },
     "user_tz": -540
    },
    "id": "D2EdN3whvKSF",
    "outputId": "58656223-2608-4251-8eb9-0cb263398151"
   },
   "outputs": [
    {
     "data": {
      "image/png": "[encoded data removed]",
      "text/plain": [
       "<Figure size 640x480 with 1 Axes>"
      ]
     },
     "metadata": {},
     "output_type": "display_data"
    },
    {
     "data": {
      "image/png": "[encoded data removed]",
      "text/plain": [
       "<Figure size 640x480 with 1 Axes>"
      ]
     },
     "metadata": {},
     "output_type": "display_data"
    },
    {
     "data": {
      "image/png": "[encoded data removed]",
      "text/plain": [
       "<Figure size 640x480 with 1 Axes>"
      ]
     },
     "metadata": {},
     "output_type": "display_data"
    }
   ],
   "source": [
    "model.eval()\n",
    "\n",
    "for i, data in enumerate(subset_loader):\n",
    "  with torch.no_grad():\n",
    "    x, label = data\n",
    "    x = x.to(device)\n",
    "    preds = model(x)\n",
    "    predicted_class = torch.argmax(preds, dim=1)\n",
    "    for j in range(len(preds)):\n",
    "      scaled_image = (x[j] * 255).clamp(0, 255).to(torch.uint8).cpu()\n",
    "      plt.imshow(scaled_image.permute(1, 2, 0).numpy())\n",
    "      plt.title(f'Predicted: {classes[predicted_class[j]]}, True: {classes[label[j]]}')\n",
    "      plt.show()\n"
   ]
  },
  {
   "cell_type": "code",
   "execution_count": null,
   "metadata": {
    "id": "uddS9eGHxb7m"
   },
   "outputs": [],
   "source": []
  }
 ],
 "metadata": {
  "accelerator": "GPU",
  "colab": {
   "gpuType": "T4",
   "provenance": []
  },
  "kernelspec": {
   "display_name": "Python 3",
   "name": "python3"
  }
 },
 "nbformat": 4,
 "nbformat_minor": 0
}
